{
 "cells": [
  {
   "cell_type": "code",
   "execution_count": 1,
   "metadata": {},
   "outputs": [],
   "source": [
    "import pandas as pd\n",
    "original_data = pd.read_csv('jobs_skills.csv') #original data loaded\n",
    "import re\n",
    "import string\n"
   ]
  },
  {
   "cell_type": "code",
   "execution_count": 2,
   "metadata": {},
   "outputs": [],
   "source": [
    "def removePunctuation(x):\n",
    "    # Lowercasing all words\n",
    "    x = x.lower()\n",
    "    # Removing non ASCII chars\n",
    "    x = re.sub(r'[^\\x00-\\x7f]',r' ',x)\n",
    "    # Removing (replacing with empty spaces actually) all the punctuations\n",
    "    return re.sub(\"[\"+string.punctuation+\"]\", \" \", x)"
   ]
  },
  {
   "cell_type": "code",
   "execution_count": 3,
   "metadata": {},
   "outputs": [],
   "source": [
    "original_data[\"skills\"] = original_data[\"skills\"].map(removePunctuation)\n",
    "original_data[\"title\"] = original_data[\"title\"].map(removePunctuation)"
   ]
  },
  {
   "cell_type": "code",
   "execution_count": 5,
   "metadata": {},
   "outputs": [],
   "source": [
    "original_data.to_csv( \"skills_preprocessing.csv\", index=True)\n",
    "dpre= pd.read_csv(\"skills_preprocessing.csv\")"
   ]
  },
  {
   "cell_type": "code",
   "execution_count": 6,
   "metadata": {},
   "outputs": [
    {
     "name": "stdout",
     "output_type": "stream",
     "text": [
      "Requirement already satisfied: pymongo in c:\\users\\alaa elsherif\\anaconda3\\lib\\site-packages (3.10.1)\n"
     ]
    }
   ],
   "source": [
    "!pip install pymongo"
   ]
  },
  {
   "cell_type": "markdown",
   "metadata": {},
   "source": [
    "# import data into mongodb "
   ]
  },
  {
   "cell_type": "code",
   "execution_count": 6,
   "metadata": {},
   "outputs": [],
   "source": [
    "#indeces.create()\n",
    "from pymongo import MongoClient\n",
    "import pymongo\n",
    "\n",
    "client = MongoClient()"
   ]
  },
  {
   "cell_type": "code",
   "execution_count": 7,
   "metadata": {},
   "outputs": [
    {
     "ename": "BulkWriteError",
     "evalue": "batch op errors occurred",
     "output_type": "error",
     "traceback": [
      "\u001b[1;31m---------------------------------------------------------------------------\u001b[0m",
      "\u001b[1;31mBulkWriteError\u001b[0m                            Traceback (most recent call last)",
      "\u001b[1;32m<ipython-input-7-f882b4fdf061>\u001b[0m in \u001b[0;36m<module>\u001b[1;34m\u001b[0m\n\u001b[0;32m      4\u001b[0m \u001b[1;33m\u001b[0m\u001b[0m\n\u001b[0;32m      5\u001b[0m \u001b[0mrecords_\u001b[0m \u001b[1;33m=\u001b[0m \u001b[0mdpre\u001b[0m\u001b[1;33m.\u001b[0m\u001b[0mto_dict\u001b[0m\u001b[1;33m(\u001b[0m\u001b[0morient\u001b[0m \u001b[1;33m=\u001b[0m \u001b[1;34m'records'\u001b[0m\u001b[1;33m)\u001b[0m\u001b[1;33m\u001b[0m\u001b[1;33m\u001b[0m\u001b[0m\n\u001b[1;32m----> 6\u001b[1;33m \u001b[0mresult\u001b[0m \u001b[1;33m=\u001b[0m \u001b[0melmenus_collection\u001b[0m\u001b[1;33m.\u001b[0m\u001b[0minsert_many\u001b[0m\u001b[1;33m(\u001b[0m\u001b[0mrecords_\u001b[0m \u001b[1;33m)\u001b[0m\u001b[1;33m\u001b[0m\u001b[1;33m\u001b[0m\u001b[0m\n\u001b[0m",
      "\u001b[1;32m~\\Anaconda3\\lib\\site-packages\\pymongo\\collection.py\u001b[0m in \u001b[0;36minsert_many\u001b[1;34m(self, documents, ordered, bypass_document_validation, session)\u001b[0m\n\u001b[0;32m    756\u001b[0m         \u001b[0mblk\u001b[0m \u001b[1;33m=\u001b[0m \u001b[0m_Bulk\u001b[0m\u001b[1;33m(\u001b[0m\u001b[0mself\u001b[0m\u001b[1;33m,\u001b[0m \u001b[0mordered\u001b[0m\u001b[1;33m,\u001b[0m \u001b[0mbypass_document_validation\u001b[0m\u001b[1;33m)\u001b[0m\u001b[1;33m\u001b[0m\u001b[1;33m\u001b[0m\u001b[0m\n\u001b[0;32m    757\u001b[0m         \u001b[0mblk\u001b[0m\u001b[1;33m.\u001b[0m\u001b[0mops\u001b[0m \u001b[1;33m=\u001b[0m \u001b[1;33m[\u001b[0m\u001b[0mdoc\u001b[0m \u001b[1;32mfor\u001b[0m \u001b[0mdoc\u001b[0m \u001b[1;32min\u001b[0m \u001b[0mgen\u001b[0m\u001b[1;33m(\u001b[0m\u001b[1;33m)\u001b[0m\u001b[1;33m]\u001b[0m\u001b[1;33m\u001b[0m\u001b[1;33m\u001b[0m\u001b[0m\n\u001b[1;32m--> 758\u001b[1;33m         \u001b[0mblk\u001b[0m\u001b[1;33m.\u001b[0m\u001b[0mexecute\u001b[0m\u001b[1;33m(\u001b[0m\u001b[0mwrite_concern\u001b[0m\u001b[1;33m,\u001b[0m \u001b[0msession\u001b[0m\u001b[1;33m=\u001b[0m\u001b[0msession\u001b[0m\u001b[1;33m)\u001b[0m\u001b[1;33m\u001b[0m\u001b[1;33m\u001b[0m\u001b[0m\n\u001b[0m\u001b[0;32m    759\u001b[0m         \u001b[1;32mreturn\u001b[0m \u001b[0mInsertManyResult\u001b[0m\u001b[1;33m(\u001b[0m\u001b[0minserted_ids\u001b[0m\u001b[1;33m,\u001b[0m \u001b[0mwrite_concern\u001b[0m\u001b[1;33m.\u001b[0m\u001b[0macknowledged\u001b[0m\u001b[1;33m)\u001b[0m\u001b[1;33m\u001b[0m\u001b[1;33m\u001b[0m\u001b[0m\n\u001b[0;32m    760\u001b[0m \u001b[1;33m\u001b[0m\u001b[0m\n",
      "\u001b[1;32m~\\Anaconda3\\lib\\site-packages\\pymongo\\bulk.py\u001b[0m in \u001b[0;36mexecute\u001b[1;34m(self, write_concern, session)\u001b[0m\n\u001b[0;32m    509\u001b[0m                 \u001b[0mself\u001b[0m\u001b[1;33m.\u001b[0m\u001b[0mexecute_no_results\u001b[0m\u001b[1;33m(\u001b[0m\u001b[0msock_info\u001b[0m\u001b[1;33m,\u001b[0m \u001b[0mgenerator\u001b[0m\u001b[1;33m)\u001b[0m\u001b[1;33m\u001b[0m\u001b[1;33m\u001b[0m\u001b[0m\n\u001b[0;32m    510\u001b[0m         \u001b[1;32melse\u001b[0m\u001b[1;33m:\u001b[0m\u001b[1;33m\u001b[0m\u001b[1;33m\u001b[0m\u001b[0m\n\u001b[1;32m--> 511\u001b[1;33m             \u001b[1;32mreturn\u001b[0m \u001b[0mself\u001b[0m\u001b[1;33m.\u001b[0m\u001b[0mexecute_command\u001b[0m\u001b[1;33m(\u001b[0m\u001b[0mgenerator\u001b[0m\u001b[1;33m,\u001b[0m \u001b[0mwrite_concern\u001b[0m\u001b[1;33m,\u001b[0m \u001b[0msession\u001b[0m\u001b[1;33m)\u001b[0m\u001b[1;33m\u001b[0m\u001b[1;33m\u001b[0m\u001b[0m\n\u001b[0m\u001b[0;32m    512\u001b[0m \u001b[1;33m\u001b[0m\u001b[0m\n\u001b[0;32m    513\u001b[0m \u001b[1;33m\u001b[0m\u001b[0m\n",
      "\u001b[1;32m~\\Anaconda3\\lib\\site-packages\\pymongo\\bulk.py\u001b[0m in \u001b[0;36mexecute_command\u001b[1;34m(self, generator, write_concern, session)\u001b[0m\n\u001b[0;32m    347\u001b[0m \u001b[1;33m\u001b[0m\u001b[0m\n\u001b[0;32m    348\u001b[0m         \u001b[1;32mif\u001b[0m \u001b[0mfull_result\u001b[0m\u001b[1;33m[\u001b[0m\u001b[1;34m\"writeErrors\"\u001b[0m\u001b[1;33m]\u001b[0m \u001b[1;32mor\u001b[0m \u001b[0mfull_result\u001b[0m\u001b[1;33m[\u001b[0m\u001b[1;34m\"writeConcernErrors\"\u001b[0m\u001b[1;33m]\u001b[0m\u001b[1;33m:\u001b[0m\u001b[1;33m\u001b[0m\u001b[1;33m\u001b[0m\u001b[0m\n\u001b[1;32m--> 349\u001b[1;33m             \u001b[0m_raise_bulk_write_error\u001b[0m\u001b[1;33m(\u001b[0m\u001b[0mfull_result\u001b[0m\u001b[1;33m)\u001b[0m\u001b[1;33m\u001b[0m\u001b[1;33m\u001b[0m\u001b[0m\n\u001b[0m\u001b[0;32m    350\u001b[0m         \u001b[1;32mreturn\u001b[0m \u001b[0mfull_result\u001b[0m\u001b[1;33m\u001b[0m\u001b[1;33m\u001b[0m\u001b[0m\n\u001b[0;32m    351\u001b[0m \u001b[1;33m\u001b[0m\u001b[0m\n",
      "\u001b[1;32m~\\Anaconda3\\lib\\site-packages\\pymongo\\bulk.py\u001b[0m in \u001b[0;36m_raise_bulk_write_error\u001b[1;34m(full_result)\u001b[0m\n\u001b[0;32m    138\u001b[0m         full_result[\"writeErrors\"].sort(\n\u001b[0;32m    139\u001b[0m             key=lambda error: error[\"index\"])\n\u001b[1;32m--> 140\u001b[1;33m     \u001b[1;32mraise\u001b[0m \u001b[0mBulkWriteError\u001b[0m\u001b[1;33m(\u001b[0m\u001b[0mfull_result\u001b[0m\u001b[1;33m)\u001b[0m\u001b[1;33m\u001b[0m\u001b[1;33m\u001b[0m\u001b[0m\n\u001b[0m\u001b[0;32m    141\u001b[0m \u001b[1;33m\u001b[0m\u001b[0m\n\u001b[0;32m    142\u001b[0m \u001b[1;33m\u001b[0m\u001b[0m\n",
      "\u001b[1;31mBulkWriteError\u001b[0m: batch op errors occurred"
     ]
    }
   ],
   "source": [
    "## this error because database is already created\n",
    "\n",
    "DB_NAME = 'job_skill'\n",
    "db = client[DB_NAME]\n",
    "elmenus_collection = db['data']\n",
    "\n",
    "records_ = dpre.to_dict(orient = 'records')\n",
    "result = elmenus_collection.insert_many(records_ )\n"
   ]
  },
  {
   "cell_type": "code",
   "execution_count": 8,
   "metadata": {},
   "outputs": [],
   "source": [
    "client=MongoClient()\n",
    "db=client.job_skill\n",
    "collection=db.data\n",
    "end_data=collection.find()"
   ]
  },
  {
   "cell_type": "code",
   "execution_count": 6,
   "metadata": {},
   "outputs": [
    {
     "name": "stdout",
     "output_type": "stream",
     "text": [
      "<pymongo.cursor.Cursor object at 0x000001EB5EE460F0>\n"
     ]
    }
   ],
   "source": [
    "print(end_data)"
   ]
  },
  {
   "cell_type": "code",
   "execution_count": 9,
   "metadata": {},
   "outputs": [
    {
     "data": {
      "text/plain": [
       "'title_1_skills_1'"
      ]
     },
     "execution_count": 9,
     "metadata": {},
     "output_type": "execute_result"
    }
   ],
   "source": [
    "collection.create_index([(\"title\",1),(\"skills\",1)])\n"
   ]
  },
  {
   "cell_type": "markdown",
   "metadata": {},
   "source": [
    "# full text search in MongoDB"
   ]
  },
  {
   "cell_type": "code",
   "execution_count": 10,
   "metadata": {},
   "outputs": [
    {
     "name": "stdout",
     "output_type": "stream",
     "text": [
      "{'_id': '5da1795ae43fd1a7ab67ddd9', 'Unnamed: 0': 75174, 'title': 'property consultant', 'jobFunction': \"['Sales/Retail']\", 'industry': \"['Real Estate/Property Management']\", 'skills': '  customer support    sales    commercial projects    property    real estate    customer service    sales skills  '}\n",
      "\n",
      "search time using MongoDB:  0.03300142288208008\n"
     ]
    }
   ],
   "source": [
    "import time\n",
    "start_time = time.time()\n",
    "search=collection.find_one( { \"title\": \"property consultant\" } ) \n",
    "print(search)\n",
    "end_time = time.time()\n",
    "search_time_MongoDB= end_time - start_time\n",
    "print(\"\\nsearch time using MongoDB: \",search_time_MongoDB)"
   ]
  },
  {
   "cell_type": "markdown",
   "metadata": {},
   "source": [
    "# partial matching in MongoDB"
   ]
  },
  {
   "cell_type": "code",
   "execution_count": 11,
   "metadata": {},
   "outputs": [
    {
     "name": "stdout",
     "output_type": "stream",
     "text": [
      "None\n",
      "\n",
      "search time using MongoDB:  0.0030007362365722656\n"
     ]
    }
   ],
   "source": [
    "\n",
    "start_time = time.time()\n",
    "search=collection.find_one( { \"title\": \"admin \" } ) \n",
    "print(search)\n",
    "end_time = time.time()\n",
    "search_time_MongoDB= end_time - start_time\n",
    "print(\"\\nsearch time using MongoDB: \",search_time_MongoDB)"
   ]
  },
  {
   "cell_type": "markdown",
   "metadata": {},
   "source": [
    "# Indexing in Elastic Search"
   ]
  },
  {
   "cell_type": "code",
   "execution_count": 12,
   "metadata": {},
   "outputs": [
    {
     "name": "stdout",
     "output_type": "stream",
     "text": [
      "Requirement already satisfied: elasticsearch in c:\\users\\alaa elsherif\\anaconda3\\lib\\site-packages (7.5.1)\n",
      "Requirement already satisfied: urllib3>=1.21.1 in c:\\users\\alaa elsherif\\anaconda3\\lib\\site-packages (from elasticsearch) (1.25.7)\n"
     ]
    }
   ],
   "source": [
    "!pip install elasticsearch"
   ]
  },
  {
   "cell_type": "code",
   "execution_count": null,
   "metadata": {},
   "outputs": [],
   "source": []
  },
  {
   "cell_type": "code",
   "execution_count": 13,
   "metadata": {},
   "outputs": [],
   "source": [
    " # Importing the required libraries\n",
    "from elasticsearch import Elasticsearch\n",
    "import pandas as pd\n",
    "from elasticsearch.helpers import bulk"
   ]
  },
  {
   "cell_type": "code",
   "execution_count": 55,
   "metadata": {},
   "outputs": [
    {
     "name": "stdout",
     "output_type": "stream",
     "text": [
      "Requirement already satisfied: mongo-connector in c:\\users\\alaa elsherif\\anaconda3\\lib\\site-packages (3.1.1)\n",
      "Requirement already satisfied: importlib-resources in c:\\users\\alaa elsherif\\anaconda3\\lib\\site-packages (from mongo-connector) (1.0.2)\n",
      "Requirement already satisfied: autocommand in c:\\users\\alaa elsherif\\anaconda3\\lib\\site-packages (from mongo-connector) (2.2.1)\n",
      "Requirement already satisfied: pymongo>=2.9 in c:\\users\\alaa elsherif\\anaconda3\\lib\\site-packages (from mongo-connector) (3.10.1)\n",
      "Requirement already satisfied: importlib-metadata>=0.6 in c:\\users\\alaa elsherif\\anaconda3\\lib\\site-packages (from mongo-connector) (1.1.0)\n",
      "Requirement already satisfied: zipp>=0.5 in c:\\users\\alaa elsherif\\anaconda3\\lib\\site-packages (from importlib-metadata>=0.6->mongo-connector) (0.6.0)\n",
      "Requirement already satisfied: more-itertools in c:\\users\\alaa elsherif\\anaconda3\\lib\\site-packages (from zipp>=0.5->importlib-metadata>=0.6->mongo-connector) (7.2.0)\n",
      "Collecting elastic2-doc-manager\n",
      "  Downloading https://files.pythonhosted.org/packages/09/cf/0a18c6a925c4c95ded1d40bc84f1d9e701ed4d19e68c21b984d4b33d65f5/elastic2_doc_manager-1.0.0-py2.py3-none-any.whl\n",
      "Requirement already satisfied: mongo-connector>=2.5.0 in c:\\users\\alaa elsherif\\anaconda3\\lib\\site-packages (from elastic2-doc-manager) (3.1.1)\n",
      "Requirement already satisfied: importlib-metadata in c:\\users\\alaa elsherif\\anaconda3\\lib\\site-packages (from elastic2-doc-manager) (1.1.0)\n",
      "Requirement already satisfied: autocommand in c:\\users\\alaa elsherif\\anaconda3\\lib\\site-packages (from mongo-connector>=2.5.0->elastic2-doc-manager) (2.2.1)\n",
      "Requirement already satisfied: pymongo>=2.9 in c:\\users\\alaa elsherif\\anaconda3\\lib\\site-packages (from mongo-connector>=2.5.0->elastic2-doc-manager) (3.10.1)\n",
      "Requirement already satisfied: importlib-resources in c:\\users\\alaa elsherif\\anaconda3\\lib\\site-packages (from mongo-connector>=2.5.0->elastic2-doc-manager) (1.0.2)\n",
      "Requirement already satisfied: zipp>=0.5 in c:\\users\\alaa elsherif\\anaconda3\\lib\\site-packages (from importlib-metadata->elastic2-doc-manager) (0.6.0)\n",
      "Requirement already satisfied: more-itertools in c:\\users\\alaa elsherif\\anaconda3\\lib\\site-packages (from zipp>=0.5->importlib-metadata->elastic2-doc-manager) (7.2.0)\n",
      "Installing collected packages: elastic2-doc-manager\n",
      "Successfully installed elastic2-doc-manager-1.0.0\n"
     ]
    }
   ],
   "source": [
    "!pip install mongo-connector\n",
    "!pip install elastic2-doc-manager"
   ]
  },
  {
   "cell_type": "code",
   "execution_count": 14,
   "metadata": {},
   "outputs": [],
   "source": [
    "dictionary_skills = dpre.to_dict('records')"
   ]
  },
  {
   "cell_type": "code",
   "execution_count": 15,
   "metadata": {},
   "outputs": [],
   "source": [
    " # Creating the client that connects to Elasticsearch sever\n",
    "ES = Elasticsearch([{'host':'localhost','port':9200}])"
   ]
  },
  {
   "cell_type": "code",
   "execution_count": 16,
   "metadata": {},
   "outputs": [],
   "source": [
    " # Delete the index if exists\n",
    "if ES.indices.exists(\"example_index\"):\n",
    "    ES.indices.delete(index=\"example_index\") "
   ]
  },
  {
   "cell_type": "code",
   "execution_count": 17,
   "metadata": {},
   "outputs": [],
   "source": [
    " # Prepare the index settings\n",
    "settings = {\n",
    "    \"settings\": {\n",
    "        \"number_of_shards\": 1,\n",
    "        \"number_of_replicas\": 0\n",
    "    },\n",
    "    \"mappings\": {\n",
    "        \"properties\": {\n",
    "            'title': {'type': 'text'},\n",
    "            'jobFunction' : {'type': 'text'},\n",
    "            'industry' : {'type': 'text'},\n",
    "            'skills':{'type': 'text'}\n",
    "        }\n",
    "    }\n",
    "}"
   ]
  },
  {
   "cell_type": "code",
   "execution_count": 18,
   "metadata": {},
   "outputs": [],
   "source": [
    "# Create the index with the previous settings\n",
    "res = ES.indices.create(index=\"example_index\", ignore=400, body=settings)"
   ]
  },
  {
   "cell_type": "code",
   "execution_count": 19,
   "metadata": {},
   "outputs": [],
   "source": [
    "#Bulk for Indexing large datasets without putting them into memory\n",
    "res = bulk(ES, dictionary_skills, index='example_index', raise_on_error=True)"
   ]
  },
  {
   "cell_type": "markdown",
   "metadata": {},
   "source": [
    "# full text search using Elastic Search"
   ]
  },
  {
   "cell_type": "code",
   "execution_count": 20,
   "metadata": {},
   "outputs": [
    {
     "name": "stdout",
     "output_type": "stream",
     "text": [
      "{'took': 512, 'timed_out': False, '_shards': {'total': 1, 'successful': 1, 'skipped': 0, 'failed': 0}, 'hits': {'total': {'value': 3441, 'relation': 'eq'}, 'max_score': 9.28945, 'hits': [{'_index': 'example_index', '_type': '_doc', '_id': '5da1244fe43fd1a7ab672f70', '_score': 9.28945, '_source': {'Unnamed: 0': 30524, 'title': 'admin assistant', 'jobFunction': \"['Administration']\", 'industry': \"['Marketing and Advertising']\", 'skills': '  administration    office management    microsoft office  '}}, {'_index': 'example_index', '_type': '_doc', '_id': '5da12476e43fd1a7ab672fc1', '_score': 9.28945, '_source': {'Unnamed: 0': 30608, 'title': 'admin assistant', 'jobFunction': \"['Administration']\", 'industry': \"['Engineering Services']\", 'skills': '  administration    office management    secretary    admin  '}}, {'_index': 'example_index', '_type': '_doc', '_id': '5da12479e43fd1a7ab672fc8', '_score': 9.28945, '_source': {'Unnamed: 0': 30621, 'title': 'admin assistant', 'jobFunction': \"['Administration']\", 'industry': \"['Real Estate/Property Management', 'Marketing and Advertising']\", 'skills': '  admin work    microsoft office    office management    administration    secretary    personal assistant    microsoft excel  '}}, {'_index': 'example_index', '_type': '_doc', '_id': '5da12493e43fd1a7ab672ffc', '_score': 9.28945, '_source': {'Unnamed: 0': 30665, 'title': 'admin assistant', 'jobFunction': \"['Administration']\", 'industry': \"['Energy and Utilities', 'Engineering Services']\", 'skills': '  administration    administrative skills    secretary    admin  '}}, {'_index': 'example_index', '_type': '_doc', '_id': '5da1251de43fd1a7ab673120', '_score': 9.28945, '_source': {'Unnamed: 0': 30957, 'title': 'admin assistant', 'jobFunction': \"['Administration']\", 'industry': \"['Education']\", 'skills': '  admin work    office management    administration    secretary    admin assistant    microsoft office  '}}, {'_index': 'example_index', '_type': '_doc', '_id': '5da1258ae43fd1a7ab673201', '_score': 9.28945, '_source': {'Unnamed: 0': 31183, 'title': 'admin assistant', 'jobFunction': \"['Administration']\", 'industry': \"['Real Estate/Property Management', 'Marketing and Advertising']\", 'skills': '  admin work    microsoft office    office management    administration    secretary    personal assistant    microsoft excel  '}}, {'_index': 'example_index', '_type': '_doc', '_id': '5da12597e43fd1a7ab67321d', '_score': 9.28945, '_source': {'Unnamed: 0': 31211, 'title': 'admin assistant', 'jobFunction': \"['Administration']\", 'industry': \"['Real Estate/Property Management']\", 'skills': '  admin work    office management    administration    admin    communication skills    secretary  '}}, {'_index': 'example_index', '_type': '_doc', '_id': '5da126e9e43fd1a7ab6734ec', '_score': 9.28945, '_source': {'Unnamed: 0': 31932, 'title': 'admin assistant', 'jobFunction': \"['Administration']\", 'industry': \"['Healthcare and Medical Services', 'Consulting Services', 'Management Consulting']\", 'skills': '  microsoft word    admin assist    administration    computer skills    admin    communication skills    secretary    microsoft excel    microsoft office  '}}, {'_index': 'example_index', '_type': '_doc', '_id': '5da12718e43fd1a7ab673550', '_score': 9.28945, '_source': {'Unnamed: 0': 32031, 'title': 'admin assistant', 'jobFunction': \"['Administration']\", 'industry': \"['Real Estate/Property Management']\", 'skills': '  administrative    business administration    office management    administration    secretary    admin assistant  '}}, {'_index': 'example_index', '_type': '_doc', '_id': '5da12732e43fd1a7ab673588', '_score': 9.28945, '_source': {'Unnamed: 0': 32085, 'title': 'admin assistant', 'jobFunction': \"['Administration']\", 'industry': \"['Real Estate/Property Management', 'Marketing and Advertising']\", 'skills': '  admin work    microsoft office    office management    administration    secretary    personal assistant    microsoft excel  '}}]}}\n",
      "\n",
      "Search Time:  0.5150637626647949\n"
     ]
    }
   ],
   "source": [
    "# Searching\n",
    "start_time = time.time()\n",
    "search=ES.search(index='example_index',body = {'query':{'match':{'title':'admin assistant'}}})\n",
    "end_time = time.time()\n",
    "print(search)\n",
    "search_time_es = end_time - start_time\n",
    "print ( '\\nSearch Time: ', search_time_es ) ## return time in secondes\n"
   ]
  },
  {
   "cell_type": "markdown",
   "metadata": {},
   "source": [
    "# partial search using Elastic Search"
   ]
  },
  {
   "cell_type": "code",
   "execution_count": 21,
   "metadata": {},
   "outputs": [
    {
     "name": "stdout",
     "output_type": "stream",
     "text": [
      "{'took': 7, 'timed_out': False, '_shards': {'total': 1, 'successful': 1, 'skipped': 0, 'failed': 0}, 'hits': {'total': {'value': 1823, 'relation': 'eq'}, 'max_score': 5.5880904, 'hits': [{'_index': 'example_index', '_type': '_doc', '_id': '5da12863e43fd1a7ab673809', '_score': 5.5880904, '_source': {'Unnamed: 0': 32728, 'title': 'admin', 'jobFunction': \"['Administration']\", 'industry': \"['Energy and Utilities', 'Construction - Residential & Commercial/Office', 'Engineering Services']\", 'skills': '  office management    administration    admin    secretary    microsoft office  '}}, {'_index': 'example_index', '_type': '_doc', '_id': '5da0ef38e43fd1a7ab66bbb6', '_score': 5.5880904, '_source': {'Unnamed: 0': 901, 'title': 'admin', 'jobFunction': \"['Administration']\", 'industry': \"['Energy and Utilities', 'Construction - Residential & Commercial/Office', 'Engineering Services']\", 'skills': '  office management    administration    admin    secretary    microsoft office  '}}, {'_index': 'example_index', '_type': '_doc', '_id': '5da12f94e43fd1a7ab674732', '_score': 5.5880904, '_source': {'Unnamed: 0': 36608, 'title': 'admin', 'jobFunction': \"['Administration']\", 'industry': \"['Energy and Utilities', 'Construction - Residential & Commercial/Office', 'Engineering Services']\", 'skills': '  office management    administration    admin    secretary    microsoft office  '}}, {'_index': 'example_index', '_type': '_doc', '_id': '5da13221e43fd1a7ab674c87', '_score': 5.5880904, '_source': {'Unnamed: 0': 37974, 'title': 'admin', 'jobFunction': \"['Administration']\", 'industry': \"['Energy and Utilities', 'Construction - Residential & Commercial/Office', 'Engineering Services']\", 'skills': '  office management    administration    admin    secretary    microsoft office  '}}, {'_index': 'example_index', '_type': '_doc', '_id': '5da1132de43fd1a7ab670b58', '_score': 5.5880904, '_source': {'Unnamed: 0': 21287, 'title': 'admin', 'jobFunction': \"['Administration']\", 'industry': \"['Energy and Utilities', 'Construction - Residential & Commercial/Office', 'Engineering Services']\", 'skills': '  office management    administration    admin    secretary    microsoft office  '}}, {'_index': 'example_index', '_type': '_doc', '_id': '5da118cae43fd1a7ab6717ba', '_score': 5.5880904, '_source': {'Unnamed: 0': 24457, 'title': 'admin', 'jobFunction': \"['Administration']\", 'industry': \"['Energy and Utilities', 'Construction - Residential & Commercial/Office', 'Engineering Services']\", 'skills': '  office management    administration    admin    secretary    microsoft office  '}}, {'_index': 'example_index', '_type': '_doc', '_id': '5da10b61e43fd1a7ab66f9ab', '_score': 5.5880904, '_source': {'Unnamed: 0': 16761, 'title': 'admin', 'jobFunction': \"['Administration']\", 'industry': \"['Energy and Utilities', 'Construction - Residential & Commercial/Office', 'Engineering Services']\", 'skills': '  office management    administration    admin    secretary    microsoft office  '}}, {'_index': 'example_index', '_type': '_doc', '_id': '5da10d6de43fd1a7ab66fe65', '_score': 5.5880904, '_source': {'Unnamed: 0': 17971, 'title': 'admin', 'jobFunction': \"['Administration']\", 'industry': \"['Energy and Utilities', 'Construction - Residential & Commercial/Office', 'Engineering Services']\", 'skills': '  office management    administration    admin    secretary    microsoft office  '}}, {'_index': 'example_index', '_type': '_doc', '_id': '5da0fa27e43fd1a7ab66d4a2', '_score': 5.5880904, '_source': {'Unnamed: 0': 7281, 'title': 'admin', 'jobFunction': \"['Administration']\", 'industry': \"['Energy and Utilities', 'Construction - Residential & Commercial/Office', 'Engineering Services']\", 'skills': '  office management    administration    admin    secretary    microsoft office  '}}, {'_index': 'example_index', '_type': '_doc', '_id': '5da0fb15e43fd1a7ab66d6c2', '_score': 5.5880904, '_source': {'Unnamed: 0': 7825, 'title': 'admin', 'jobFunction': \"['Administration']\", 'industry': \"['Energy and Utilities', 'Construction - Residential & Commercial/Office', 'Engineering Services']\", 'skills': '  office management    administration    admin    secretary    microsoft office  '}}]}}\n",
      "\n",
      "Search Time:  0.010995149612426758\n"
     ]
    }
   ],
   "source": [
    "# Searching\n",
    "start_time = time.time()\n",
    "search=ES.search(index='example_index',body = {'query':{'match':{'title':'admin'}}})\n",
    "end_time = time.time()\n",
    "print(search)\n",
    "search_time_es = end_time - start_time\n",
    "print ( '\\nSearch Time: ', search_time_es )"
   ]
  },
  {
   "cell_type": "code",
   "execution_count": null,
   "metadata": {},
   "outputs": [],
   "source": []
  },
  {
   "cell_type": "code",
   "execution_count": null,
   "metadata": {},
   "outputs": [],
   "source": []
  }
 ],
 "metadata": {
  "kernelspec": {
   "display_name": "Python 3",
   "language": "python",
   "name": "python3"
  },
  "language_info": {
   "codemirror_mode": {
    "name": "ipython",
    "version": 3
   },
   "file_extension": ".py",
   "mimetype": "text/x-python",
   "name": "python",
   "nbconvert_exporter": "python",
   "pygments_lexer": "ipython3",
   "version": "3.7.3"
  }
 },
 "nbformat": 4,
 "nbformat_minor": 2
}
